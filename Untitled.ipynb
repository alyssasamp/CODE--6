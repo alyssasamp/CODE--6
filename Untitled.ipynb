{
 "cells": [
  {
   "cell_type": "markdown",
   "id": "5afac16d",
   "metadata": {},
   "source": [
    "## Code Set 6 "
   ]
  },
  {
   "cell_type": "markdown",
   "id": "f2d13ce1",
   "metadata": {},
   "source": [
    "## Problem 1- Algorithm Workbench-\n",
    "#Need to write a program that opens a file with the file name 'my_name.txt', write my name to the file, then close it "
   ]
  },
  {
   "cell_type": "code",
   "execution_count": 7,
   "id": "cd8bd8fd",
   "metadata": {},
   "outputs": [
    {
     "name": "stdout",
     "output_type": "stream",
     "text": [
      "File has been closed\n"
     ]
    }
   ],
   "source": [
    "#Starting with the main function\n",
    "#using 'open' to open the file that we were told to name my_name.txt\n",
    "#Using 'write' so that it will write my name on the file\n",
    "#'Close' is used to then close file\n",
    "#I used print just to show it has been closed \n",
    "def main(): \n",
    "    filename = open('my_name.txt', 'w')\n",
    "    \n",
    "    filename.write('Alyssa')\n",
    "    \n",
    "    filename.close()\n",
    "    print('File has been closed')\n",
    "    \n",
    "    #Call main function\n",
    "if __name__ == '__main__':\n",
    "    main()"
   ]
  },
  {
   "cell_type": "markdown",
   "id": "b6bb7eb8",
   "metadata": {},
   "source": [
    "## Problem 2- \n",
    "#This will open the file from problem 1 and read my name, display it, then closes file"
   ]
  },
  {
   "cell_type": "code",
   "execution_count": 8,
   "id": "763ffcad",
   "metadata": {},
   "outputs": [
    {
     "name": "stdout",
     "output_type": "stream",
     "text": [
      "Name on file: Alyssa\n"
     ]
    }
   ],
   "source": [
    "#MAin function\n",
    "#Opening file, using 'r' instead because it is reading not writing this time\n",
    "\n",
    "def main():\n",
    "    filename = open('my_name.txt', 'r')\n",
    "    #LAbel is as name so it reads my name, using readline so it will lead the upcoming line\n",
    "    name = filename.readline()\n",
    "    \n",
    "    print(f\"Name on file: Alyssa\")\n",
    "    #printing so it displays my name on the file\n",
    "    #Need to close file now \n",
    "    filename.close()\n",
    "    \n",
    "    #Calling main function to end it off \n",
    "if __name__ == '__main__':\n",
    "    main()"
   ]
  },
  {
   "cell_type": "markdown",
   "id": "d797a401",
   "metadata": {},
   "source": [
    "# Programming exercise problem 1- File Display \n",
    "#Assuming a file is named numbers.txt , I need to write a program that displays all the numbers in the file"
   ]
  },
  {
   "cell_type": "code",
   "execution_count": 9,
   "id": "ef6f599d",
   "metadata": {},
   "outputs": [],
   "source": [
    "#Main function\n",
    "def main(): \n",
    "    #Opening a file named numbers.txt\n",
    "    file = open('numbers.txt', 'w')\n",
    "    \n",
    "    #NEed to write random numbers to represent the integers in the file \n",
    "    file.write('6\\n')\n",
    "    file.write('24\\n')\n",
    "    file.write('18\\n')\n",
    "    file.write('42\\n')\n",
    "    file.write('1\\n')\n",
    "    \n",
    "    #Time to close the file with the integers written in it \n",
    "    file.close()\n",
    "    \n",
    "    #Calling main function to end it \n",
    "if __name__ == '__main__':\n",
    "    main()"
   ]
  },
  {
   "cell_type": "code",
   "execution_count": 11,
   "id": "588ba898",
   "metadata": {},
   "outputs": [
    {
     "name": "stdout",
     "output_type": "stream",
     "text": [
      "6\n",
      "\n",
      "24\n",
      "\n",
      "18\n",
      "\n",
      "42\n",
      "\n",
      "1\n",
      "\n"
     ]
    }
   ],
   "source": [
    "def main():\n",
    "    #Opening the file written above \n",
    "    file = open('numbers.txt', 'r')\n",
    "    #Using 'for' as for loop so that it reads each number written above \n",
    "    #Print fucntions prints the numbers getting read \n",
    "    #Close file once done\n",
    "    for line in file:\n",
    "        print(line)\n",
    "    file.close()\n",
    "        \n",
    "        #Call main function\n",
    "if __name__ == '__main__':\n",
    "    main()"
   ]
  },
  {
   "cell_type": "markdown",
   "id": "2368a487",
   "metadata": {},
   "source": [
    "## Problem 6- Average of Numbers \n",
    "#Assume a file containing a series of integers is named numbers.txt and exists on the computer’s disk. Write a program that calculates the average of all the numbers stored in the file"
   ]
  },
  {
   "cell_type": "code",
   "execution_count": null,
   "id": "e172ea90",
   "metadata": {},
   "outputs": [],
   "source": [
    "#Main function\n",
    "def main():\n",
    "    #Opening file with numbers in it \n",
    "    file = open('numbers.txt', 'r')\n",
    "    \n",
    "    #Setting intial values to 0 so extra numbers don't get added \n",
    "    total = 0\n",
    "    \n",
    "    lines = 0\n",
    "    #This reads all the lines with the numbers \n",
    "    line =file.readline()\n",
    "    #Using i for the loop \n",
    "    for i in lines"
   ]
  }
 ],
 "metadata": {
  "kernelspec": {
   "display_name": "Python 3 (ipykernel)",
   "language": "python",
   "name": "python3"
  },
  "language_info": {
   "codemirror_mode": {
    "name": "ipython",
    "version": 3
   },
   "file_extension": ".py",
   "mimetype": "text/x-python",
   "name": "python",
   "nbconvert_exporter": "python",
   "pygments_lexer": "ipython3",
   "version": "3.10.9"
  }
 },
 "nbformat": 4,
 "nbformat_minor": 5
}
