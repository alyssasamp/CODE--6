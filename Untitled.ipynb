{
 "cells": [
  {
   "cell_type": "markdown",
   "id": "e4578ab3",
   "metadata": {},
   "source": [
    "## Code Set 6 "
   ]
  },
  {
   "cell_type": "markdown",
   "id": "6ce3c157",
   "metadata": {},
   "source": [
    "## Problem 1- Algorithm Workbench-\n",
    "#Need to write a program that opens a file with the file name 'my_name.txt', write my name to the file, then close it "
   ]
  },
  {
   "cell_type": "code",
   "execution_count": 7,
   "id": "5489d32d",
   "metadata": {},
   "outputs": [
    {
     "name": "stdout",
     "output_type": "stream",
     "text": [
      "File has been closed\n"
     ]
    }
   ],
   "source": [
    "#Starting with the main function\n",
    "#using 'open' to open the file that we were told to name my_name.txt\n",
    "#Using 'write' so that it will write my name on the file\n",
    "#'Close' is used to then close file\n",
    "#I used print just to show it has been closed \n",
    "def main(): \n",
    "    filename = open('my_name.txt', 'w')\n",
    "    \n",
    "    filename.write('Alyssa')\n",
    "    \n",
    "    filename.close()\n",
    "    print('File has been closed')\n",
    "    \n",
    "    #Call main function\n",
    "if __name__ == '__main__':\n",
    "    main()"
   ]
  },
  {
   "cell_type": "markdown",
   "id": "0cf5b848",
   "metadata": {},
   "source": [
    "## Problem 2- \n",
    "#This will open the file from problem 1 and read my name, display it, then closes file"
   ]
  },
  {
   "cell_type": "code",
   "execution_count": 8,
   "id": "a1655388",
   "metadata": {},
   "outputs": [
    {
     "name": "stdout",
     "output_type": "stream",
     "text": [
      "Name on file: Alyssa\n"
     ]
    }
   ],
   "source": [
    "#MAin function\n",
    "#Opening file, using 'r' instead because it is reading not writing this time\n",
    "\n",
    "def main():\n",
    "    filename = open('my_name.txt', 'r')\n",
    "    #LAbel is as name so it reads my name, using readline so it will lead the upcoming line\n",
    "    name = filename.readline()\n",
    "    \n",
    "    print(f\"Name on file: Alyssa\")\n",
    "    #printing so it displays my name on the file\n",
    "    #Need to close file now \n",
    "    filename.close()\n",
    "    \n",
    "    #Calling main function to end it off \n",
    "if __name__ == '__main__':\n",
    "    main()"
   ]
  },
  {
   "cell_type": "markdown",
   "id": "c35cc9c1",
   "metadata": {},
   "source": [
    "# Programming exercise problem 1- File Display \n",
    "#Assuming a file is named numbers.txt , I need to write a program that displays all the numbers in the file"
   ]
  },
  {
   "cell_type": "code",
   "execution_count": 22,
   "id": "562912c9",
   "metadata": {},
   "outputs": [],
   "source": [
    "#Main function\n",
    "def main(): \n",
    "    #Opening a file named numbers.txt\n",
    "    file = open('numbers.txt', 'w')\n",
    "    \n",
    "    #NEed to write random numbers to represent the integers in the file \n",
    "    file.write('6\\n')\n",
    "    file.write('14\\n')\n",
    "    file.write('18\\n')\n",
    "    file.write('42\\n')\n",
    "    file.write('1\\n')\n",
    "    \n",
    "    #Time to close the file with the integers written in it \n",
    "    file.close()\n",
    "    \n",
    "    #Calling main function to end it \n",
    "if __name__ == '__main__':\n",
    "    main()"
   ]
  },
  {
   "cell_type": "code",
   "execution_count": 23,
   "id": "0dc1fab2",
   "metadata": {},
   "outputs": [
    {
     "name": "stdout",
     "output_type": "stream",
     "text": [
      "6\n",
      "\n",
      "14\n",
      "\n",
      "18\n",
      "\n",
      "42\n",
      "\n",
      "1\n",
      "\n"
     ]
    }
   ],
   "source": [
    "def main():\n",
    "    #Opening the file written above \n",
    "    file = open('numbers.txt', 'r')\n",
    "    #Using 'for' as for loop so that it reads each number written above \n",
    "    #Print fucntions prints the numbers getting read \n",
    "    #Close file once done\n",
    "    for line in file:\n",
    "        print(line)\n",
    "    file.close()\n",
    "        \n",
    "        #Call main function\n",
    "if __name__ == '__main__':\n",
    "    main()"
   ]
  },
  {
   "cell_type": "markdown",
   "id": "e3596d0d",
   "metadata": {},
   "source": [
    "## Problem 6- Average of Numbers \n",
    "#Assume a file containing a series of integers is named numbers.txt and exists on the computer’s disk. Write a program that calculates the average of all the numbers stored in the file"
   ]
  },
  {
   "cell_type": "code",
   "execution_count": 21,
   "id": "eb39b2b1",
   "metadata": {},
   "outputs": [
    {
     "name": "stdout",
     "output_type": "stream",
     "text": [
      "The average of the numbers in file is 16.2.\n"
     ]
    }
   ],
   "source": [
    "#Main function\n",
    "#Created a list this time of my numbers in the file from above and labeled them 'numbers'\n",
    "#Set the inital total value to 0 \n",
    "def main():\n",
    "    numbers = [6, 14, 18, 42, 1]\n",
    "    total = 0 \n",
    "#used for loop for the numbers above and wrote how the average will be found \n",
    "#Len is used to take the numbers in the list and have total divided by that \n",
    "    for value in numbers:\n",
    "        total += value\n",
    "    average = total / len(numbers)\n",
    "#Once the calculations are done, I used print to display in wording what the average will be \n",
    "    print(f'The average of the numbers in file is {average}.')\n",
    "#lastly have to call the main function\n",
    "if __name__ == '__main__':\n",
    "    main()\n",
    "#(Used example on 7.7 from book to help find average)"
   ]
  },
  {
   "cell_type": "markdown",
   "id": "06a48e37",
   "metadata": {},
   "source": [
    "## Problem 9- Exception Handing \n",
    "Modify the program that you wrote for Exercise 6 so it handles the following exceptions:  It should handle any IOError exceptions that are raised when the file is opened and data is read from it.It should handle any ValueError exceptions that are raised when the items that are read from the file are converted to a number"
   ]
  },
  {
   "cell_type": "code",
   "execution_count": 24,
   "id": "53f09139",
   "metadata": {},
   "outputs": [
    {
     "ename": "IndentationError",
     "evalue": "expected an indented block after 'for' statement on line 5 (2566313609.py, line 6)",
     "output_type": "error",
     "traceback": [
      "\u001b[0;36m  Cell \u001b[0;32mIn[24], line 6\u001b[0;36m\u001b[0m\n\u001b[0;31m    total += value\u001b[0m\n\u001b[0m    ^\u001b[0m\n\u001b[0;31mIndentationError\u001b[0m\u001b[0;31m:\u001b[0m expected an indented block after 'for' statement on line 5\n"
     ]
    }
   ],
   "source": [
    "def main():\n",
    "    try:\n",
    "        numbers = [6, 14, 18, 42, 1]\n",
    "        total = 0\n",
    "        for value in numbers:\n",
    "        total += value \n",
    "        average = total / len(numbers)\n",
    "        print(f'The average of the numbers in file is {average}.')\n",
    "    except IO Error:\n",
    "        print('There is an error trying to read the file')\n",
    "        \n",
    "    except ValueError:\n",
    "        print('Error: file must only have numbers')\n",
    "if __name__ == '__main__'\n",
    "    main()"
   ]
  },
  {
   "cell_type": "code",
   "execution_count": null,
   "id": "8c0309c4",
   "metadata": {},
   "outputs": [],
   "source": []
  }
 ],
 "metadata": {
  "kernelspec": {
   "display_name": "Python 3 (ipykernel)",
   "language": "python",
   "name": "python3"
  },
  "language_info": {
   "codemirror_mode": {
    "name": "ipython",
    "version": 3
   },
   "file_extension": ".py",
   "mimetype": "text/x-python",
   "name": "python",
   "nbconvert_exporter": "python",
   "pygments_lexer": "ipython3",
   "version": "3.10.9"
  }
 },
 "nbformat": 4,
 "nbformat_minor": 5
}
