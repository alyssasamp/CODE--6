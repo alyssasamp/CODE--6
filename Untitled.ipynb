{
 "cells": [
  {
   "cell_type": "markdown",
   "id": "8f912489",
   "metadata": {},
   "source": [
    "## Code Set 6 "
   ]
  },
  {
   "cell_type": "markdown",
   "id": "e832ce02",
   "metadata": {},
   "source": [
    "## Problem 1- Algorithm Workbench-\n",
    "#Need to write a program that opens a file with the file name 'my_name.txt', write my name to the file, then close it "
   ]
  },
  {
   "cell_type": "code",
   "execution_count": 7,
   "id": "431d7efc",
   "metadata": {},
   "outputs": [
    {
     "name": "stdout",
     "output_type": "stream",
     "text": [
      "File has been closed\n"
     ]
    }
   ],
   "source": [
    "#Starting with the main function\n",
    "#using 'open' to open the file that we were told to name my_name.txt\n",
    "#Using 'write' so that it will write my name on the file\n",
    "#'Close' is used to then close file\n",
    "#I used print just to show it has been closed \n",
    "def main(): \n",
    "    filename = open('my_name.txt', 'w')\n",
    "    \n",
    "    filename.write('Alyssa')\n",
    "    \n",
    "    filename.close()\n",
    "    print('File has been closed')\n",
    "    \n",
    "    #Call main function\n",
    "if __name__ == '__main__':\n",
    "    main()"
   ]
  },
  {
   "cell_type": "markdown",
   "id": "4b39abdc",
   "metadata": {},
   "source": [
    "## Problem 2- \n",
    "#This will open the file from problem 1 and read my name, display it, then closes file"
   ]
  },
  {
   "cell_type": "code",
   "execution_count": 8,
   "id": "3776b21e",
   "metadata": {},
   "outputs": [
    {
     "name": "stdout",
     "output_type": "stream",
     "text": [
      "Name on file: Alyssa\n"
     ]
    }
   ],
   "source": [
    "#MAin function\n",
    "#Opening file, using 'r' instead because it is reading not writing this time\n",
    "\n",
    "def main():\n",
    "    filename = open('my_name.txt', 'r')\n",
    "    #LAbel is as name so it reads my name, using readline so it will lead the upcoming line\n",
    "    name = filename.readline()\n",
    "    \n",
    "    print(f\"Name on file: Alyssa\")\n",
    "    #printing so it displays my name on the file\n",
    "    #Need to close file now \n",
    "    filename.close()\n",
    "    \n",
    "    #Calling main function to end it off \n",
    "if __name__ == '__main__':\n",
    "    main()"
   ]
  },
  {
   "cell_type": "markdown",
   "id": "88f4408c",
   "metadata": {},
   "source": [
    "# Programming exercise problem 1- File Display \n",
    "#Assuming a file is named numbers.txt , I need to write a program that displays all the numbers in the file"
   ]
  },
  {
   "cell_type": "code",
   "execution_count": 9,
   "id": "a8b24bf9",
   "metadata": {},
   "outputs": [],
   "source": [
    "#Main function\n",
    "def main(): \n",
    "    #Opening a file named numbers.txt\n",
    "    file = open('numbers.txt', 'w')\n",
    "    \n",
    "    #NEed to write random numbers to represent the integers in the file \n",
    "    file.write('6\\n')\n",
    "    file.write('24\\n')\n",
    "    file.write('18\\n')\n",
    "    file.write('42\\n')\n",
    "    file.write('1\\n')\n",
    "    \n",
    "    #Time to close the file with the integers written in it \n",
    "    file.close()\n",
    "    \n",
    "    #Calling main function to end it \n",
    "if __name__ == '__main__':\n",
    "    main()"
   ]
  },
  {
   "cell_type": "code",
   "execution_count": 11,
   "id": "40840fda",
   "metadata": {},
   "outputs": [
    {
     "name": "stdout",
     "output_type": "stream",
     "text": [
      "6\n",
      "\n",
      "24\n",
      "\n",
      "18\n",
      "\n",
      "42\n",
      "\n",
      "1\n",
      "\n"
     ]
    }
   ],
   "source": [
    "def main():\n",
    "    #Opening the file written above \n",
    "    file = open('numbers.txt', 'r')\n",
    "    #Using 'for' as for loop so that it reads each number written above \n",
    "    #Print fucntions prints the numbers getting read \n",
    "    #Close file once done\n",
    "    for line in file:\n",
    "        print(line)\n",
    "    file.close()\n",
    "        \n",
    "        #Call main function\n",
    "if __name__ == '__main__':\n",
    "    main()"
   ]
  },
  {
   "cell_type": "markdown",
   "id": "e071456e",
   "metadata": {},
   "source": [
    "## Problem 6- Average of Numbers \n",
    "#Assume a file containing a series of integers is named numbers.txt and exists on the computer’s disk. Write a program that calculates the average of all the numbers stored in the file"
   ]
  },
  {
   "cell_type": "code",
   "execution_count": 18,
   "id": "bbc51c0e",
   "metadata": {},
   "outputs": [],
   "source": [
    "#Main function\n",
    "def main():\n",
    "    #Opening file with numbers in it \n",
    "    file = open('numbers.txt', 'r')\n",
    "    \n",
    "    #Setting intial values to 0 so extra numbers don't get added \n",
    "    total = 0\n",
    "    \n",
    "    lines = 0\n",
    "    #This reads all the lines with the numbers \n",
    "    line =file.readline()\n",
    "    #Using i for the loop \n",
    "    for i in lines:\n",
    "        ++lines\n",
    "        total+= int(i)\n",
    "        \n",
    "        #Using if else statement to show average \n",
    "        #Need to print a statement if there are no numbers in it, in order to get the else statement to work\n",
    "    if lines == 0:\n",
    "        print('There are no numbers to average')\n",
    "            \n",
    "            #Now using a formula for average\n",
    "            #This takes the total of all the numbers listed in file, then divides it by the number of lines, then will print average \n",
    "    else: \n",
    "        average = total / lines \n",
    "        print(average)"
   ]
  },
  {
   "cell_type": "code",
   "execution_count": 19,
   "id": "c4dac03e",
   "metadata": {},
   "outputs": [
    {
     "ename": "SyntaxError",
     "evalue": "expected ':' (2271018217.py, line 6)",
     "output_type": "error",
     "traceback": [
      "\u001b[0;36m  Cell \u001b[0;32mIn[19], line 6\u001b[0;36m\u001b[0m\n\u001b[0;31m    for line in lines\u001b[0m\n\u001b[0m                     ^\u001b[0m\n\u001b[0;31mSyntaxError\u001b[0m\u001b[0;31m:\u001b[0m expected ':'\n"
     ]
    }
   ],
   "source": [
    "def main():\n",
    "    file =open('numbers.txt', 'r')\n",
    "    lines = file.readlines()\n",
    "    sum = 0\n",
    "    numbers = []\n",
    "    for line in lines"
   ]
  },
  {
   "cell_type": "code",
   "execution_count": 21,
   "id": "348736d5",
   "metadata": {},
   "outputs": [
    {
     "name": "stdout",
     "output_type": "stream",
     "text": [
      "The average of the numbers in file is 16.2.\n"
     ]
    }
   ],
   "source": [
    "def main():\n",
    "    numbers = [6, 14, 18, 42, 1]\n",
    "    total = 0 \n",
    "    for value in numbers:\n",
    "        total += value\n",
    "    average = total / len(numbers)\n",
    "    \n",
    "    print(f'The average of the numbers in file is {average}.')\n",
    "if __name__ == '__main__':\n",
    "    main()"
   ]
  },
  {
   "cell_type": "code",
   "execution_count": null,
   "id": "e7585904",
   "metadata": {},
   "outputs": [],
   "source": []
  }
 ],
 "metadata": {
  "kernelspec": {
   "display_name": "Python 3 (ipykernel)",
   "language": "python",
   "name": "python3"
  },
  "language_info": {
   "codemirror_mode": {
    "name": "ipython",
    "version": 3
   },
   "file_extension": ".py",
   "mimetype": "text/x-python",
   "name": "python",
   "nbconvert_exporter": "python",
   "pygments_lexer": "ipython3",
   "version": "3.10.9"
  }
 },
 "nbformat": 4,
 "nbformat_minor": 5
}
