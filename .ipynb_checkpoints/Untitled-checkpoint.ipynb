{
 "cells": [
  {
   "cell_type": "markdown",
   "id": "8aeb2514",
   "metadata": {},
   "source": [
    "## Code Set 6 "
   ]
  },
  {
   "cell_type": "markdown",
   "id": "8b4e4182",
   "metadata": {},
   "source": [
    "## Problem 1- Algorithm Workbench-\n",
    "#Need to write a program that opens a file with the file name 'my_name.txt', write my name to the file, then close it "
   ]
  },
  {
   "cell_type": "code",
   "execution_count": 7,
   "id": "22b092c7",
   "metadata": {},
   "outputs": [
    {
     "name": "stdout",
     "output_type": "stream",
     "text": [
      "File has been closed\n"
     ]
    }
   ],
   "source": [
    "#Starting with the main function\n",
    "#using 'open' to open the file that we were told to name my_name.txt\n",
    "#Using 'write' so that it will write my name on the file\n",
    "#'Close' is used to then close file\n",
    "#I used print just to show it has been closed \n",
    "def main(): \n",
    "    filename = open('my_name.txt', 'w')\n",
    "    \n",
    "    filename.write('Alyssa')\n",
    "    \n",
    "    filename.close()\n",
    "    print('File has been closed')\n",
    "    \n",
    "    #Call main function\n",
    "if __name__ == '__main__':\n",
    "    main()"
   ]
  },
  {
   "cell_type": "code",
   "execution_count": null,
   "id": "16fa284d",
   "metadata": {},
   "outputs": [],
   "source": []
  }
 ],
 "metadata": {
  "kernelspec": {
   "display_name": "Python 3 (ipykernel)",
   "language": "python",
   "name": "python3"
  },
  "language_info": {
   "codemirror_mode": {
    "name": "ipython",
    "version": 3
   },
   "file_extension": ".py",
   "mimetype": "text/x-python",
   "name": "python",
   "nbconvert_exporter": "python",
   "pygments_lexer": "ipython3",
   "version": "3.10.9"
  }
 },
 "nbformat": 4,
 "nbformat_minor": 5
}
