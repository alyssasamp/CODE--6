{
 "cells": [
  {
   "cell_type": "markdown",
   "id": "cf799f09",
   "metadata": {},
   "source": [
    "## Code Set 6 "
   ]
  },
  {
   "cell_type": "markdown",
   "id": "03e33027",
   "metadata": {},
   "source": [
    "## Problem 1- Algorithm Workbench-\n",
    "#Need to write a program that opens a file with the file name 'my_name.txt', write my name to the file, then close it "
   ]
  },
  {
   "cell_type": "code",
   "execution_count": 7,
   "id": "6795c081",
   "metadata": {},
   "outputs": [
    {
     "name": "stdout",
     "output_type": "stream",
     "text": [
      "File has been closed\n"
     ]
    }
   ],
   "source": [
    "#Starting with the main function\n",
    "#using 'open' to open the file that we were told to name my_name.txt\n",
    "#Using 'write' so that it will write my name on the file\n",
    "#'Close' is used to then close file\n",
    "#I used print just to show it has been closed \n",
    "def main(): \n",
    "    filename = open('my_name.txt', 'w')\n",
    "    \n",
    "    filename.write('Alyssa')\n",
    "    \n",
    "    filename.close()\n",
    "    print('File has been closed')\n",
    "    \n",
    "    #Call main function\n",
    "if __name__ == '__main__':\n",
    "    main()"
   ]
  },
  {
   "cell_type": "markdown",
   "id": "cf911450",
   "metadata": {},
   "source": [
    "## Problem 2- \n",
    "#This will open the file from problem 1 and read my name, display it, then closes file"
   ]
  },
  {
   "cell_type": "code",
   "execution_count": 8,
   "id": "8c34a5e3",
   "metadata": {},
   "outputs": [
    {
     "name": "stdout",
     "output_type": "stream",
     "text": [
      "Name on file: Alyssa\n"
     ]
    }
   ],
   "source": [
    "#MAin function\n",
    "#Opening file, using 'r' instead because it is reading not writing this time\n",
    "\n",
    "def main():\n",
    "    filename = open('my_name.txt', 'r')\n",
    "    #LAbel is as name so it reads my name, using readline so it will lead the upcoming line\n",
    "    name = filename.readline()\n",
    "    \n",
    "    print(f\"Name on file: Alyssa\")\n",
    "    #printing so it displays my name on the file\n",
    "    #Need to close file now \n",
    "    filename.close()\n",
    "    \n",
    "    #Calling main function to end it off \n",
    "if __name__ == '__main__':\n",
    "    main()"
   ]
  },
  {
   "cell_type": "markdown",
   "id": "c04ce9b3",
   "metadata": {},
   "source": [
    "# Programming exercise problem 1- File Display \n",
    "#Assuming a file is named numbers.txt , I need to write a program that displays all the numbers in the file"
   ]
  },
  {
   "cell_type": "code",
   "execution_count": 9,
   "id": "8f3a25cf",
   "metadata": {},
   "outputs": [],
   "source": [
    "#Main function\n",
    "def main(): \n",
    "    #Opening a file named numbers.txt\n",
    "    file = open('numbers.txt', 'w')\n",
    "    \n",
    "    #NEed to write random numbers to represent the integers in the file \n",
    "    file.write('6\\n')\n",
    "    file.write('24\\n')\n",
    "    file.write('18\\n')\n",
    "    file.write('42\\n')\n",
    "    file.write('1\\n')\n",
    "    \n",
    "    #Time to close the file with the integers written in it \n",
    "    file.close()\n",
    "    \n",
    "    #Calling main function to end it \n",
    "if __name__ == '__main__':\n",
    "    main()"
   ]
  },
  {
   "cell_type": "code",
   "execution_count": 11,
   "id": "f5df725e",
   "metadata": {},
   "outputs": [
    {
     "name": "stdout",
     "output_type": "stream",
     "text": [
      "6\n",
      "\n",
      "24\n",
      "\n",
      "18\n",
      "\n",
      "42\n",
      "\n",
      "1\n",
      "\n"
     ]
    }
   ],
   "source": [
    "def main():\n",
    "    #Opening the file written above \n",
    "    file = open('numbers.txt', 'r')\n",
    "    \n",
    "    for line in file:\n",
    "        print(line)\n",
    "    file.close()\n",
    "        \n",
    "        #Call main function\n",
    "if __name__ == '__main__':\n",
    "    main()"
   ]
  },
  {
   "cell_type": "code",
   "execution_count": null,
   "id": "71d29c4d",
   "metadata": {},
   "outputs": [],
   "source": []
  }
 ],
 "metadata": {
  "kernelspec": {
   "display_name": "Python 3 (ipykernel)",
   "language": "python",
   "name": "python3"
  },
  "language_info": {
   "codemirror_mode": {
    "name": "ipython",
    "version": 3
   },
   "file_extension": ".py",
   "mimetype": "text/x-python",
   "name": "python",
   "nbconvert_exporter": "python",
   "pygments_lexer": "ipython3",
   "version": "3.10.9"
  }
 },
 "nbformat": 4,
 "nbformat_minor": 5
}
